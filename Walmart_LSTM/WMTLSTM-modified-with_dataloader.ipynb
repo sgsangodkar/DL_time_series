{
 "cells": [
  {
   "cell_type": "markdown",
   "id": "502962a8",
   "metadata": {},
   "source": [
    "## Predicting Walmart's Quarterly Earnings - Pytorch LSTM Example\n",
    "### Applying LSTMs to Predict Quarterly Earnings\n",
    "\n",
    "This is the code accompanying my Medium article which you can find linked in the ReadMe. The code blocks follow the same pattern as those in the article!"
   ]
  },
  {
   "cell_type": "code",
   "execution_count": 1,
   "id": "b4586235",
   "metadata": {},
   "outputs": [],
   "source": [
    "#-- Necessary Imports\n",
    "import pandas as pd\n",
    "import numpy as np\n",
    "import torch\n",
    "import torch.nn as nn\n",
    "import torch.optim as optim\n",
    "import datetime as dt\n",
    "\n",
    "import matplotlib.pyplot as plt\n",
    "import matplotlib as mpl\n",
    "%matplotlib inline"
   ]
  },
  {
   "cell_type": "code",
   "execution_count": 2,
   "id": "2d853a9f",
   "metadata": {},
   "outputs": [],
   "source": [
    "df = pd.read_csv('WMT_Earnings.csv', index_col='Date')\n",
    "#-- Using this we can select the amount of data to use, some of the very early years \n",
    "#- aren't formatted properly and will throw an error\n",
    "df=df.iloc[:50]\n",
    "#-- Change the dates into a format that pandas will recognise\n",
    "df.index = [df.index[i].split()[0]+\" \"+df.index[i].split()[2] for i in range(len(df.index))]\n",
    "#-- Set index to correct format\n",
    "df.index = pd.to_datetime(df.index)\n",
    "#-- Put the data in chronological order\n",
    "df = df.iloc[::-1]\n",
    "#-- Only select data up to end of 2019\n",
    "df = df[:\"2019\"]\n",
    "#-- Remove the B (standing for billion) from the values and store as float rather than a string\n",
    "df.Value = [float(df.Value[i][:-1]) for i in range(len(df.Value))]"
   ]
  },
  {
   "cell_type": "code",
   "execution_count": 3,
   "id": "9b370170",
   "metadata": {},
   "outputs": [],
   "source": [
    "from sklearn.preprocessing import MinMaxScaler\n",
    "test_size = 7\n",
    "\n",
    "train = df[:-test_size].values\n",
    "test = df[-test_size:].values\n",
    "\n",
    "scaler = MinMaxScaler()\n",
    "scaler.fit(train)\n",
    "train_scaled = scaler.transform(train)"
   ]
  },
  {
   "cell_type": "code",
   "execution_count": 4,
   "id": "76e22e59",
   "metadata": {},
   "outputs": [
    {
     "name": "stdout",
     "output_type": "stream",
     "text": [
      "Original dimensions : torch.Size([36, 1])\n",
      "Correct dimensions : torch.Size([36])\n"
     ]
    }
   ],
   "source": [
    "train_scaled = torch.FloatTensor(train_scaled)\n",
    "print(f'Original dimensions : {train_scaled.shape}')\n",
    "train_scaled = train_scaled.view(-1)\n",
    "print(f'Correct dimensions : {train_scaled.shape}')"
   ]
  },
  {
   "cell_type": "code",
   "execution_count": 5,
   "id": "30a62951",
   "metadata": {},
   "outputs": [],
   "source": [
    "def get_x_y_pairs(data, n_past, n_future):\n",
    "    \"\"\"\n",
    "    train_scaled - training sequence\n",
    "    train_periods - How many data points to use as inputs\n",
    "    prediction_periods - How many periods to ouput as predictions\n",
    "    \"\"\"\n",
    "    _x = [data[i:i+n_past] for i in range(len(data)-n_past-n_future+1)]\n",
    "    _y = [data[i+n_past:i+n_past+n_future] for i in range(len(data)-n_past-n_future+1)]\n",
    "    \n",
    "    #-- use the stack function to convert the list of 1D tensors\n",
    "    # into a 2D tensor where each element of the list is now a row\n",
    "    _x = torch.stack(_x)\n",
    "    _y = torch.stack(_y)\n",
    "    \n",
    "    return _x, _y"
   ]
  },
  {
   "cell_type": "code",
   "execution_count": 6,
   "id": "3206aceb",
   "metadata": {},
   "outputs": [],
   "source": [
    "n_past=16\n",
    "n_future=7\n",
    "data_x, data_y = get_x_y_pairs(train_scaled, n_past, n_future)"
   ]
  },
  {
   "cell_type": "code",
   "execution_count": 7,
   "id": "6f8e20ab",
   "metadata": {},
   "outputs": [],
   "source": [
    "from torch.utils.data import Dataset, DataLoader\n",
    "class CustomDataset(Dataset):\n",
    "    def __init__(self, data_x, data_y, n_past, n_future):\n",
    "        self.data_x = data_x\n",
    "        self.data_y = data_y\n",
    "        self.n_past = n_past\n",
    "        self.n_future = n_future\n",
    "        \n",
    "        \n",
    "    def __len__(self):\n",
    "        return len(self.data_x)\n",
    "    \n",
    "    def __getitem__(self, idx):\n",
    "        return self.data_x[idx].reshape(-1,1), self.data_y[idx]"
   ]
  },
  {
   "cell_type": "code",
   "execution_count": 8,
   "id": "d874fa0d",
   "metadata": {},
   "outputs": [],
   "source": [
    "tr_dataset = CustomDataset(data_x, data_y, n_past, n_future)"
   ]
  },
  {
   "cell_type": "code",
   "execution_count": 9,
   "id": "d7ad22ad",
   "metadata": {},
   "outputs": [],
   "source": [
    "tr_dataloader = DataLoader(dataset=tr_dataset, \n",
    "                           batch_size=4,\n",
    "                           shuffle=False,\n",
    "                           num_workers=2\n",
    "                          )"
   ]
  },
  {
   "cell_type": "code",
   "execution_count": 10,
   "id": "1662f1d4",
   "metadata": {},
   "outputs": [],
   "source": [
    "class LSTM(nn.Module):\n",
    "    \"\"\"\n",
    "    input_size - will be 1 in this example since we have only 1 predictor (a sequence of previous values)\n",
    "    hidden_size - Can be chosen to dictate how much hidden \"long term memory\" the network will have\n",
    "    output_size - This will be equal to the prediciton_periods input to get_x_y_pairs\n",
    "    \"\"\"\n",
    "    def __init__(self, input_size, hidden_size, output_size, num_layers=1):\n",
    "        super(LSTM, self).__init__()\n",
    "        self.hidden_size = hidden_size\n",
    "        self.num_layers = num_layers\n",
    "        \n",
    "        self.lstm = nn.LSTM(input_size, hidden_size, self.num_layers, batch_first=True)\n",
    "        \n",
    "        self.linear = nn.Linear(hidden_size, output_size)\n",
    "        \n",
    "    def forward(self, x, hidden=None):\n",
    "        if hidden==None:\n",
    "            self.hidden = (torch.zeros(self.num_layers,x.shape[0],self.hidden_size),\n",
    "                           torch.zeros(self.num_layers,x.shape[0],self.hidden_size))\n",
    "        else:\n",
    "            self.hidden = hidden\n",
    "            \n",
    "        \"\"\"\n",
    "        inputs need to be in the right shape as defined in documentation\n",
    "        - https://pytorch.org/docs/stable/generated/torch.nn.LSTM.html\n",
    "        \n",
    "        lstm_out - will contain the hidden states from all times in the sequence\n",
    "        self.hidden - will contain the current hidden state and cell state\n",
    "        \"\"\"\n",
    "        lstm_out, self.hidden = self.lstm(x, self.hidden)\n",
    "        \n",
    "        predictions = self.linear(lstm_out[:,-1])\n",
    "\n",
    "        \n",
    "        return predictions, self.hidden"
   ]
  },
  {
   "cell_type": "code",
   "execution_count": 19,
   "id": "bd96e971",
   "metadata": {},
   "outputs": [],
   "source": [
    "model = LSTM(input_size=1, hidden_size=16, output_size=n_future, num_layers=2)\n",
    "criterion = nn.MSELoss()\n",
    "optimizer = optim.Adam(model.parameters(), lr=0.001)"
   ]
  },
  {
   "cell_type": "code",
   "execution_count": 20,
   "id": "218dcdb7",
   "metadata": {},
   "outputs": [
    {
     "name": "stdout",
     "output_type": "stream",
     "text": [
      "epoch:    0 loss:0.62173086\n",
      "epoch:  100 loss:0.01605563\n",
      "epoch:  200 loss:0.01560921\n",
      "epoch:  300 loss:0.01465920\n",
      "epoch:  400 loss:0.01402501\n",
      "epoch:  500 loss:0.01325886\n",
      "epoch:  600 loss:0.01202122\n",
      "epoch:  700 loss:0.00921299\n",
      "epoch:  800 loss:0.00536179\n",
      "epoch:  900 loss:0.00151056\n",
      "epoch: 1000 loss:0.00135308\n"
     ]
    }
   ],
   "source": [
    "epochs = 1000\n",
    "model.train()\n",
    "for epoch in range(epochs+1):\n",
    "    for x,y in tr_dataloader:\n",
    "        y_hat, _ = model(x, None)\n",
    "        optimizer.zero_grad()\n",
    "        loss = criterion(y_hat, y)\n",
    "        loss.backward()\n",
    "        optimizer.step()\n",
    "        \n",
    "    if epoch%100==0:\n",
    "        print(f'epoch: {epoch:4} loss:{loss.item():10.8f}')\n"
   ]
  },
  {
   "cell_type": "code",
   "execution_count": 21,
   "id": "5d14fcc4",
   "metadata": {},
   "outputs": [],
   "source": [
    "model.eval()\n",
    "with torch.no_grad():\n",
    "    predictions, _ = model(train_scaled[-test_size:].view(1,-1,1), None)\n",
    "#-- Apply inverse transform to undo scaling\n",
    "predictions = scaler.inverse_transform(np.array(predictions.reshape(-1,1)))"
   ]
  },
  {
   "cell_type": "code",
   "execution_count": 23,
   "id": "435a4469",
   "metadata": {},
   "outputs": [
    {
     "data": {
      "image/png": "[encoded data removed]",
      "text/plain": [
       "<Figure size 720x360 with 1 Axes>"
      ]
     },
     "metadata": {
      "needs_background": "light"
     },
     "output_type": "display_data"
    }
   ],
   "source": [
    "x = [dt.datetime.date(d) for d in df.index]\n",
    "font = {'size'   : 15}\n",
    "\n",
    "mpl.rc('font', **font)\n",
    "fig = plt.figure(figsize=(10,5))\n",
    "plt.title('Walmart Quarterly Revenue')\n",
    "plt.ylabel('Revenue (Billions)')\n",
    "plt.grid(True)\n",
    "plt.plot(x[:-len(predictions)],\n",
    "         train,\n",
    "         \"b-\")\n",
    "plt.plot(x[-len(predictions):],\n",
    "         test,\n",
    "         \"b--\",\n",
    "         label='True Values')\n",
    "plt.plot(x[-len(predictions):],\n",
    "         predictions,\n",
    "         \"r-\",\n",
    "         label='Predicted Values')\n",
    "plt.legend()\n",
    "plt.savefig('plot1', dpi=600)"
   ]
  },
  {
   "cell_type": "code",
   "execution_count": 24,
   "id": "3cb4495a",
   "metadata": {},
   "outputs": [
    {
     "data": {
      "text/plain": [
       "LSTM(\n",
       "  (lstm): LSTM(1, 16, num_layers=2, batch_first=True)\n",
       "  (linear): Linear(in_features=16, out_features=7, bias=True)\n",
       ")"
      ]
     },
     "execution_count": 24,
     "metadata": {},
     "output_type": "execute_result"
    }
   ],
   "source": [
    "model"
   ]
  },
  {
   "cell_type": "code",
   "execution_count": 27,
   "id": "2bb2114b",
   "metadata": {},
   "outputs": [],
   "source": [
    "torch.save(model, 'model.pt')"
   ]
  },
  {
   "cell_type": "code",
   "execution_count": null,
   "id": "b5efb86e",
   "metadata": {},
   "outputs": [],
   "source": []
  }
 ],
 "metadata": {
  "kernelspec": {
   "display_name": "Python 3",
   "language": "python",
   "name": "python3"
  },
  "language_info": {
   "codemirror_mode": {
    "name": "ipython",
    "version": 3
   },
   "file_extension": ".py",
   "mimetype": "text/x-python",
   "name": "python",
   "nbconvert_exporter": "python",
   "pygments_lexer": "ipython3",
   "version": "3.8.10"
  }
 },
 "nbformat": 4,
 "nbformat_minor": 5
}
